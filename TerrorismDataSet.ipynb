{
  "nbformat": 4,
  "nbformat_minor": 0,
  "metadata": {
    "colab": {
      "provenance": [],
      "authorship_tag": "ABX9TyNsOjQZcwGOOfB4elkmOgKC",
      "include_colab_link": true
    },
    "kernelspec": {
      "name": "python3",
      "display_name": "Python 3"
    },
    "language_info": {
      "name": "python"
    }
  },
  "cells": [
    {
      "cell_type": "markdown",
      "metadata": {
        "id": "view-in-github",
        "colab_type": "text"
      },
      "source": [
        "<a href=\"https://colab.research.google.com/github/nitin-pandita/TerroismDataManipulation/blob/main/TerrorismDataSet.ipynb\" target=\"_parent\"><img src=\"https://colab.research.google.com/assets/colab-badge.svg\" alt=\"Open In Colab\"/></a>"
      ]
    },
    {
      "cell_type": "code",
      "execution_count": 3,
      "metadata": {
        "id": "3Q1S2Jud5N-v"
      },
      "outputs": [],
      "source": [
        "import numpy as np\n",
        "import csv"
      ]
    },
    {
      "cell_type": "code",
      "source": [
        "import numpy as np\n",
        "import csv\n",
        "file = open('terrorismData.csv')  \n",
        "\n",
        "data = csv.DictReader((file), skipinitialspace=True)\n",
        "killed = []\n",
        "wounded = []\n",
        "country = [] #lets say if we want to filter it\n",
        "for row in data:\n",
        "  killed.append(row['Killed']) # we are writting killed because we are dealing with string \n",
        "  country.append(row['Country'])\n",
        "  wounded.append(row['Wounded'])\n",
        "### Now we will be creating an array likewise\n",
        "np_killed = np.array(killed)\n",
        "np_wounded = np.array(wounded);\n",
        "\n",
        "\n",
        "\n",
        "np_killed = np.array(np_killed,dtype = float)\n",
        "np_wounded = np.array(np_wounded,dtype = float)"
      ],
      "metadata": {
        "id": "J0hlbaNs5YzF"
      },
      "execution_count": 23,
      "outputs": []
    },
    {
      "cell_type": "markdown",
      "source": [
        "Now as you can see we are having some empty string also and we want to remove those but we can't do that because we have to do the operation and for that both of them should be equal.\n",
        "\n",
        "So we just need to make the empty string equal to zero\n"
      ],
      "metadata": {
        "id": "VO9QIfXO_kf-"
      }
    },
    {
      "cell_type": "code",
      "source": [
        "np_killed[np_killed == ''] = '0.0'\n",
        "np_wounded[np_wounded == ''] = '0.0'"
      ],
      "metadata": {
        "colab": {
          "base_uri": "https://localhost:8080/"
        },
        "id": "dKzF0v43ETCu",
        "outputId": "d2d596d4-1252-4e6a-ecac-5d258ed85a43"
      },
      "execution_count": 24,
      "outputs": [
        {
          "output_type": "stream",
          "name": "stderr",
          "text": [
            "<ipython-input-24-9e5169a7fa23>:1: FutureWarning: elementwise comparison failed; returning scalar instead, but in the future will perform elementwise comparison\n",
            "  np_killed[np_killed == ''] = '0.0'\n",
            "<ipython-input-24-9e5169a7fa23>:2: FutureWarning: elementwise comparison failed; returning scalar instead, but in the future will perform elementwise comparison\n",
            "  np_wounded[np_wounded == ''] = '0.0'\n"
          ]
        }
      ]
    },
    {
      "cell_type": "markdown",
      "source": [
        "Now we need to convert the string float then int because we can't directly change the value from string to float"
      ],
      "metadata": {
        "id": "MdGfOoD3Ebyl"
      }
    },
    {
      "cell_type": "code",
      "source": [
        "np_killed = np.array(np_killed,dtype = float)\n",
        "np_wounded = np.array(np_wounded,dtype = float)"
      ],
      "metadata": {
        "id": "HwZM3fpeEbho"
      },
      "execution_count": 25,
      "outputs": []
    },
    {
      "cell_type": "code",
      "source": [
        "killed_wounded = np_killed + np_wounded\n",
        "killed_wounded"
      ],
      "metadata": {
        "colab": {
          "base_uri": "https://localhost:8080/"
        },
        "id": "paZ0zuQzEpd2",
        "outputId": "27bff7dd-0166-44ce-f66c-10562c7ddecf"
      },
      "execution_count": 26,
      "outputs": [
        {
          "output_type": "execute_result",
          "data": {
            "text/plain": [
              "array([1., 0., 1., ..., 0., 0., 0.])"
            ]
          },
          "metadata": {},
          "execution_count": 26
        }
      ]
    },
    {
      "cell_type": "markdown",
      "source": [
        " That is the desired Output. ✅"
      ],
      "metadata": {
        "id": "nnymPmsWHEhG"
      }
    }
  ]
}